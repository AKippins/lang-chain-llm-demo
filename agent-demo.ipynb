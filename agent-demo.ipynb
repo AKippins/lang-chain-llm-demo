{
 "cells": [
  {
   "cell_type": "markdown",
   "id": "077c2c0b",
   "metadata": {},
   "source": [
    "# [LangChain Agent Demo](https://python.langchain.com/docs/tutorials/agents/)"
   ]
  }
 ],
 "metadata": {
  "language_info": {
   "name": "python"
  }
 },
 "nbformat": 4,
 "nbformat_minor": 5
}
