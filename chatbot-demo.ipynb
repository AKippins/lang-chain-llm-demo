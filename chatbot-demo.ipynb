{
 "cells": [
  {
   "cell_type": "markdown",
   "id": "809d4c73",
   "metadata": {},
   "source": [
    "# [LangChain Chatbot Demo](https://python.langchain.com/docs/tutorials/chatbot/)"
   ]
  }
 ],
 "metadata": {
  "language_info": {
   "name": "python"
  }
 },
 "nbformat": 4,
 "nbformat_minor": 5
}
