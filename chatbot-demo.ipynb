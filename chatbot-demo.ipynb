{
 "cells": [
  {
   "cell_type": "markdown",
   "id": "809d4c73",
   "metadata": {},
   "source": [
    "# [LangChain Chatbot Demo](https://python.langchain.com/docs/tutorials/chatbot/)"
   ]
  },
  {
   "cell_type": "markdown",
   "id": "01805f17",
   "metadata": {},
   "source": [
    "## [LangSmith](https://smith.langchain.com)\n",
    "\n",
    "### Instructions\n",
    "\n",
    "Many of the applications you build with LangChain will contain multiple steps with multiple invocations of LLM calls. As these applications get more and more complex, it becomes crucial to be able to inspect what exactly is going on inside your chain or agent. The best way to do this is with LangSmith.\n",
    "\n",
    "After you sign up at the link above, make sure to set your environment variables to start logging traces:\n",
    "\n",
    "### My Notes\n",
    "\n",
    "I had this section from the `llm-demo.ipynb` file so I just used that again instead of rewriting it. This is just me connecting to the API keys that I already have in the `.env` file.\n",
    "\n",
    "In the instructions you'll see this:\n",
    "```python\n",
    "import getpass\n",
    "import os\n",
    "\n",
    "os.environ[\"LANGSMITH_TRACING\"] = \"true\"\n",
    "os.environ[\"LANGSMITH_API_KEY\"] = getpass.getpass()\n",
    "```\n",
    "I just omitted it because I didn't need it defined because it's in `.env`"
   ]
  },
  {
   "cell_type": "markdown",
   "id": "dce0c875",
   "metadata": {},
   "source": [
    "## Quickstart\n",
    "\n",
    "### Instructions\n",
    "\n",
    "First up, let's learn how to use a language model by itself. LangChain supports many different language models that you can use interchangeably - select the one you want to use below!\n",
    "\n",
    "### My Notes\n",
    "\n",
    "Similar to the other file. I'm using Gemini again cause it's \"free\" (Rate limits apply lol). You'll need this if you're using this notebook. You should get it from the pipfile but just in case!\n",
    "```bash\n",
    "pip install -qU \"langchain[google-genai]\"\n",
    "```"
   ]
  },
  {
   "cell_type": "code",
   "execution_count": 1,
   "id": "90b1b280",
   "metadata": {},
   "outputs": [],
   "source": [
    "import getpass\n",
    "import os\n",
    "\n",
    "try:\n",
    "    # load environment variables from .env file (requires `python-dotenv`)\n",
    "    from dotenv import load_dotenv\n",
    "\n",
    "    load_dotenv()\n",
    "except ImportError:\n",
    "    pass\n",
    "\n",
    "os.environ[\"LANGSMITH_TRACING\"] = \"true\"\n",
    "\n",
    "if not os.environ.get(\"GOOGLE_API_KEY\"):\n",
    "  os.environ[\"GOOGLE_API_KEY\"] = getpass.getpass(\"Enter API key for Google Gemini: \")\n",
    "\n",
    "from langchain.chat_models import init_chat_model\n",
    "\n",
    "model = init_chat_model(\"gemini-2.0-flash\", model_provider=\"google_genai\")"
   ]
  },
  {
   "cell_type": "markdown",
   "id": "75a8ea19",
   "metadata": {},
   "source": [
    "### Instructions\n",
    "\n",
    "Let's first use the model directly. `ChatModel`s are instances of LangChain \"Runnables\", which means they expose a standard interface for interacting with them. To just simply call the model, we can pass in a list of messages to the `.invoke` method.\n",
    "\n",
    "### My Notes\n",
    "\n",
    "This is the same basic invocation of the LLM. Just having a conversation with the model."
   ]
  },
  {
   "cell_type": "code",
   "execution_count": 30,
   "id": "cb8d598f",
   "metadata": {},
   "outputs": [
    {
     "data": {
      "text/plain": [
       "AIMessage(content=\"Hi Bob! It's nice to meet you. How can I help you today?\", additional_kwargs={}, response_metadata={'prompt_feedback': {'block_reason': 0, 'safety_ratings': []}, 'finish_reason': 'STOP', 'model_name': 'gemini-2.0-flash', 'safety_ratings': []}, id='run--4fd09b6a-625f-4988-859f-dcd8b6f54b29-0', usage_metadata={'input_tokens': 6, 'output_tokens': 19, 'total_tokens': 25, 'input_token_details': {'cache_read': 0}})"
      ]
     },
     "execution_count": 30,
     "metadata": {},
     "output_type": "execute_result"
    }
   ],
   "source": [
    "from langchain_core.messages import HumanMessage\n",
    "\n",
    "model.invoke([HumanMessage(content=\"Hi! I'm Bob\")])"
   ]
  },
  {
   "cell_type": "markdown",
   "id": "88f36a51",
   "metadata": {},
   "source": [
    "### Instructions\n",
    "\n",
    "The model on its own does not have any concept of state. For example, if you ask a followup question:"
   ]
  },
  {
   "cell_type": "code",
   "execution_count": 31,
   "id": "9498212c",
   "metadata": {},
   "outputs": [
    {
     "data": {
      "text/plain": [
       "AIMessage(content=\"As a large language model, I don't have access to personal information about you, so I don't know your name. You haven't told me!\", additional_kwargs={}, response_metadata={'prompt_feedback': {'block_reason': 0, 'safety_ratings': []}, 'finish_reason': 'STOP', 'model_name': 'gemini-2.0-flash', 'safety_ratings': []}, id='run--de36606f-fed6-49ac-9dbe-f5ca78d682de-0', usage_metadata={'input_tokens': 6, 'output_tokens': 35, 'total_tokens': 41, 'input_token_details': {'cache_read': 0}})"
      ]
     },
     "execution_count": 31,
     "metadata": {},
     "output_type": "execute_result"
    }
   ],
   "source": [
    "model.invoke([HumanMessage(content=\"What's my name?\")])"
   ]
  },
  {
   "cell_type": "markdown",
   "id": "5f6d1b4f",
   "metadata": {},
   "source": [
    "### Instructions\n",
    "\n",
    "Let's take a look at the example LangSmith trace\n",
    "\n",
    "We can see that it doesn't take the previous conversation turn into context, and cannot answer the question. This makes for a terrible chatbot experience!\n",
    "\n",
    "To get around this, we need to pass the entire conversation history into the model. Let's see what happens when we do that:\n",
    "\n",
    "### My Notes\n",
    "\n",
    "![LangSmith Trace image with no memory](./assets/langsmith-trace-no-memory.png)"
   ]
  },
  {
   "cell_type": "code",
   "execution_count": 32,
   "id": "8af57c38",
   "metadata": {},
   "outputs": [
    {
     "data": {
      "text/plain": [
       "AIMessage(content='Your name is Bob. You told me that at the beginning of our conversation.', additional_kwargs={}, response_metadata={'prompt_feedback': {'block_reason': 0, 'safety_ratings': []}, 'finish_reason': 'STOP', 'model_name': 'gemini-2.0-flash', 'safety_ratings': []}, id='run--07086e5e-33dd-4016-8137-f320187c5d44-0', usage_metadata={'input_tokens': 22, 'output_tokens': 17, 'total_tokens': 39, 'input_token_details': {'cache_read': 0}})"
      ]
     },
     "execution_count": 32,
     "metadata": {},
     "output_type": "execute_result"
    }
   ],
   "source": [
    "from langchain_core.messages import AIMessage\n",
    "\n",
    "model.invoke(\n",
    "    [\n",
    "        HumanMessage(content=\"Hi! I'm Bob\"),\n",
    "        AIMessage(content=\"Hello Bob! How can I assist you today?\"),\n",
    "        HumanMessage(content=\"What's my name?\"),\n",
    "    ]\n",
    ")"
   ]
  },
  {
   "cell_type": "markdown",
   "id": "7f89035d",
   "metadata": {},
   "source": [
    "### Instructions\n",
    "\n",
    "And now we can see that we get a good response!\n",
    "\n",
    "This is the basic idea underpinning a chatbot's ability to interact conversationally. So how do we best implement this?"
   ]
  },
  {
   "cell_type": "markdown",
   "id": "c47af9f4",
   "metadata": {},
   "source": [
    "## Message persistence\n",
    "\n",
    "### Instructions\n",
    "\n",
    "LangGraph implements a built-in persistence layer, making it ideal for chat applications that support multiple conversational turns.\n",
    "\n",
    "Wrapping our chat model in a minimal LangGraph application allows us to automatically persist the message history, simplifying the development of multi-turn applications.\n",
    "\n",
    "LangGraph comes with a simple in-memory checkpointer, which we use below. See its documentation for more detail, including how to use different persistence backends (e.g., SQLite or Postgres).\n",
    "\n",
    "### My Notes\n",
    "\n",
    "Ok, I'm excited for this. All of this isn't that useful without persistence in conversation. For now I loosely think that I understand what's happening here.\n",
    "\n",
    "The `StateGraph` is defining a chain of messages for us. We're going to give it a default starting point named `START` that is also going to have a edge stemming off of it that we're calling `\"model\"`. We can then add a node to that with the `call_model` function that we've created. I'm assuming that every time that we `.invoke` something in the future that we're going to be adding another edge and node with that `call_model` function intrinsically.\n",
    "\n",
    "That `StateGraph` is then being stored with the `MemorySaver` and then I think that in the future we can connect the `MemorySaver` to a database as mentioned above. (SQLite, Postgres, etc.) I think that SQLite would be good for these demos. Setting up a Postgres database for this might be overkill/annoying."
   ]
  },
  {
   "cell_type": "code",
   "execution_count": 33,
   "id": "80747cb5",
   "metadata": {},
   "outputs": [],
   "source": [
    "from langgraph.checkpoint.memory import MemorySaver\n",
    "from langgraph.graph import START, MessagesState, StateGraph\n",
    "\n",
    "# Define a new graph\n",
    "workflow = StateGraph(state_schema=MessagesState)\n",
    "\n",
    "\n",
    "# Define the function that calls the model\n",
    "def call_model(state: MessagesState):\n",
    "    response = model.invoke(state[\"messages\"])\n",
    "    return {\"messages\": response}\n",
    "\n",
    "\n",
    "# Define the (single) node in the graph\n",
    "workflow.add_edge(START, \"model\")\n",
    "workflow.add_node(\"model\", call_model)\n",
    "\n",
    "# Add memory\n",
    "memory = MemorySaver()\n",
    "app = workflow.compile(checkpointer=memory)"
   ]
  },
  {
   "cell_type": "markdown",
   "id": "18dfad56",
   "metadata": {},
   "source": [
    "### Instructions\n",
    "\n",
    "We now need to create a config that we pass into the runnable every time. This config contains information that is not part of the input directly, but is still useful. In this case, we want to include a thread_id. This should look like:\n",
    "\n",
    "### My Notes\n",
    "\n",
    "This is gonna be our streams of memory I'm assuming."
   ]
  },
  {
   "cell_type": "code",
   "execution_count": 34,
   "id": "0d7d2270",
   "metadata": {},
   "outputs": [],
   "source": [
    "config = {\"configurable\": {\"thread_id\": \"abc123\"}}"
   ]
  },
  {
   "cell_type": "markdown",
   "id": "d0540905",
   "metadata": {},
   "source": [
    "### Instructions\n",
    "\n",
    "This enables us to support multiple conversation threads with a single application, a common requirement when your application has multiple users.\n",
    "\n",
    "We can then invoke the application:"
   ]
  },
  {
   "cell_type": "code",
   "execution_count": 35,
   "id": "8b4a2647",
   "metadata": {},
   "outputs": [
    {
     "name": "stdout",
     "output_type": "stream",
     "text": [
      "==================================\u001b[1m Ai Message \u001b[0m==================================\n",
      "\n",
      "Hi Bob! It's nice to meet you (virtually)! How can I help you today?\n"
     ]
    }
   ],
   "source": [
    "query = \"Hi! I'm Bob.\"\n",
    "\n",
    "input_messages = [HumanMessage(query)]\n",
    "output = app.invoke({\"messages\": input_messages}, config)\n",
    "output[\"messages\"][-1].pretty_print()  # output contains all messages in state"
   ]
  },
  {
   "cell_type": "code",
   "execution_count": 36,
   "id": "ff184b4a",
   "metadata": {},
   "outputs": [
    {
     "name": "stdout",
     "output_type": "stream",
     "text": [
      "==================================\u001b[1m Ai Message \u001b[0m==================================\n",
      "\n",
      "Your name is Bob! You just told me. 😊\n"
     ]
    }
   ],
   "source": [
    "query = \"What's my name?\"\n",
    "\n",
    "input_messages = [HumanMessage(query)]\n",
    "output = app.invoke({\"messages\": input_messages}, config)\n",
    "output[\"messages\"][-1].pretty_print()"
   ]
  },
  {
   "cell_type": "markdown",
   "id": "4d4e45c9",
   "metadata": {},
   "source": [
    "### Instructions\n",
    "\n",
    "Great! Our chatbot now remembers things about us. If we change the config to reference a different thread_id, we can see that it starts the conversation fresh."
   ]
  },
  {
   "cell_type": "code",
   "execution_count": 37,
   "id": "eb617c6b",
   "metadata": {},
   "outputs": [
    {
     "name": "stdout",
     "output_type": "stream",
     "text": [
      "==================================\u001b[1m Ai Message \u001b[0m==================================\n",
      "\n",
      "As a large language model, I don't have access to personal information about you, including your name. You haven't told me your name.\n"
     ]
    }
   ],
   "source": [
    "config = {\"configurable\": {\"thread_id\": \"abc234\"}}\n",
    "\n",
    "input_messages = [HumanMessage(query)]\n",
    "output = app.invoke({\"messages\": input_messages}, config)\n",
    "output[\"messages\"][-1].pretty_print()"
   ]
  },
  {
   "cell_type": "markdown",
   "id": "7b120155",
   "metadata": {},
   "source": [
    "### Instructions\n",
    "\n",
    "However, we can always go back to the original conversation (since we are persisting it in a database)"
   ]
  },
  {
   "cell_type": "code",
   "execution_count": 38,
   "id": "a0484236",
   "metadata": {},
   "outputs": [
    {
     "name": "stdout",
     "output_type": "stream",
     "text": [
      "==================================\u001b[1m Ai Message \u001b[0m==================================\n",
      "\n",
      "As far as I know, your name is still Bob. You haven't told me otherwise. Is there a different name you'd like me to use?\n"
     ]
    }
   ],
   "source": [
    "config = {\"configurable\": {\"thread_id\": \"abc123\"}}\n",
    "\n",
    "input_messages = [HumanMessage(query)]\n",
    "output = app.invoke({\"messages\": input_messages}, config)\n",
    "output[\"messages\"][-1].pretty_print()"
   ]
  },
  {
   "cell_type": "markdown",
   "id": "7a13fc4d",
   "metadata": {},
   "source": [
    "### Instructions\n",
    "This is how we can support a chatbot having conversations with many users!"
   ]
  },
  {
   "cell_type": "markdown",
   "id": "314a9a48",
   "metadata": {},
   "source": [
    "### Instructions\n",
    "\n",
    "For async support, update the call_model node to be an async function and use .ainvoke when invoking the application:\n",
    "\n",
    "### My Notes\n",
    "\n",
    "This is a side bar in the instructions. It is good to know that we can have async calls. (Although they always send me for a loop 😂)"
   ]
  },
  {
   "cell_type": "code",
   "execution_count": 39,
   "id": "3dd35b9d",
   "metadata": {},
   "outputs": [
    {
     "name": "stdout",
     "output_type": "stream",
     "text": [
      "==================================\u001b[1m Ai Message \u001b[0m==================================\n",
      "\n",
      "As a large language model, I have no memory of past conversations. Therefore, I don't know your name. You haven't told me!\n"
     ]
    }
   ],
   "source": [
    "# Async function for node:\n",
    "async def call_model(state: MessagesState):\n",
    "    response = await model.ainvoke(state[\"messages\"])\n",
    "    return {\"messages\": response}\n",
    "\n",
    "\n",
    "# Define graph as before:\n",
    "workflow = StateGraph(state_schema=MessagesState)\n",
    "workflow.add_edge(START, \"model\")\n",
    "workflow.add_node(\"model\", call_model)\n",
    "app = workflow.compile(checkpointer=MemorySaver())\n",
    "\n",
    "# Async invocation:\n",
    "output = await app.ainvoke({\"messages\": input_messages}, config)\n",
    "output[\"messages\"][-1].pretty_print()"
   ]
  },
  {
   "cell_type": "code",
   "execution_count": 40,
   "id": "99066f1f",
   "metadata": {},
   "outputs": [
    {
     "name": "stdout",
     "output_type": "stream",
     "text": [
      "==================================\u001b[1m Ai Message \u001b[0m==================================\n",
      "\n",
      "Hi Kipp! It's nice to meet you. How can I help you today, Kipp?\n"
     ]
    }
   ],
   "source": [
    "query = \"Hi my name is Kipp!\"\n",
    "\n",
    "input_messages = [HumanMessage(query)]\n",
    "output = await app.ainvoke({\"messages\": input_messages}, config)\n",
    "output[\"messages\"][-1].pretty_print()"
   ]
  },
  {
   "cell_type": "code",
   "execution_count": 41,
   "id": "1f105f1a",
   "metadata": {},
   "outputs": [
    {
     "name": "stdout",
     "output_type": "stream",
     "text": [
      "==================================\u001b[1m Ai Message \u001b[0m==================================\n",
      "\n",
      "That's a fascinating project, Kipp! Building a chatbot to communicate with a large language model like me is a great way to learn about agentic AI.\n",
      "\n",
      "Here's my feedback on how you're doing so far, based on this single interaction:\n",
      "\n",
      "**Positive Aspects:**\n",
      "\n",
      "*   **You're experimenting:** The best way to learn about agentic AI is to get your hands dirty and build something. You're doing that, which is excellent.\n",
      "*   **You're using me as a test case:** Using a large language model as a conversational partner for your chatbot is a smart approach. It allows you to test your chatbot's ability to handle complex and varied responses.\n",
      "*   **You're asking for feedback:** Asking for feedback on your progress shows that you're proactive and eager to improve. This is a valuable trait in any learning endeavor.\n",
      "*   **You've successfully established a connection:** From my perspective, your chatbot has successfully relayed your messages and I have provided replies that you can then process. This means the basic communication pipeline is working.\n",
      "\n",
      "**Areas for Consideration (Based on limited information):**\n",
      "\n",
      "*   **Handling Context:** Think about how your chatbot handles context over multiple turns. Can it remember previous topics or user preferences? Can it use that context to tailor its responses?\n",
      "*   **Error Handling:** How does your chatbot handle unexpected or nonsensical input from the user? Does it gracefully recover and provide helpful guidance?\n",
      "*   **Defining the \"Agentic\" Qualities:** Consider what specific \"agentic\" qualities you want your chatbot to exhibit. For example:\n",
      "    *   **Goal-oriented behavior:** Can your chatbot help you achieve specific goals (e.g., finding information, making a reservation)?\n",
      "    *   **Planning and reasoning:** Can your chatbot break down complex tasks into smaller steps and reason about the best way to achieve them?\n",
      "    *   **Learning and adaptation:** Can your chatbot learn from its interactions with users and improve its performance over time?\n",
      "*   **Testing and Evaluation:** As you develop your chatbot, think about how you will evaluate its performance. What metrics will you use to measure its success? (e.g., task completion rate, user satisfaction).\n",
      "*   **Prompt Engineering:** How are you prompting the LLM to generate responses? Experiment with different prompts to see how they affect the chatbot's behavior.\n",
      "\n",
      "**Overall:**\n",
      "\n",
      "Based on this initial interaction, you're off to a great start! Keep experimenting, asking questions, and refining your chatbot based on your observations. The field of agentic AI is rapidly evolving, so the best way to learn is by doing.\n",
      "\n",
      "I'm happy to continue providing feedback as you progress. What specific aspects of your chatbot are you currently working on or struggling with? Knowing that will help me provide more targeted advice. Good luck, Kipp!\n"
     ]
    }
   ],
   "source": [
    "query = \"I'm trying to learn about agentic AI and I'm building a chatbot to communicate with you. I'm using that code to talk to you now. How do you think that I'm doing?\"\n",
    "\n",
    "input_messages = [HumanMessage(query)]\n",
    "output = await app.ainvoke({\"messages\": input_messages}, config)\n",
    "output[\"messages\"][-1].pretty_print()"
   ]
  },
  {
   "cell_type": "markdown",
   "id": "16190533",
   "metadata": {},
   "source": [
    "### Instructions\n",
    "\n",
    "Right now, all we've done is add a simple persistence layer around the model. We can start to make the chatbot more complicated and personalized by adding in a prompt template.\n",
    "\n",
    "### My Notes\n",
    "\n",
    "Back on track. \n",
    "\n",
    "This allows us to give the chat bot some direction on how it replies to the user at a default it seems. I'm writing these notes post haste. It seems like this is the same as the `SystemMessage` that we're going to see later. It seems like the template is the more formal version of that.\n",
    "\n",
    "I could be wrong but... 🤷🏽‍♂️"
   ]
  },
  {
   "cell_type": "code",
   "execution_count": 42,
   "id": "a09efc38",
   "metadata": {},
   "outputs": [],
   "source": [
    "from langchain_core.prompts import ChatPromptTemplate, MessagesPlaceholder\n",
    "\n",
    "prompt_template = ChatPromptTemplate.from_messages(\n",
    "    [\n",
    "        (\n",
    "            \"system\",\n",
    "            \"You talk like Alfred from Batman. Answer all questions to the best of your ability.\",\n",
    "        ),\n",
    "        MessagesPlaceholder(variable_name=\"messages\"),\n",
    "    ]\n",
    ")"
   ]
  },
  {
   "cell_type": "markdown",
   "id": "f6856db2",
   "metadata": {},
   "source": [
    "### Instructions\n",
    "\n",
    "We can now update our application to incorporate this template:\n",
    "\n",
    "### My Notes\n",
    "\n",
    "We're adding the prompt step into the `call_model` function."
   ]
  },
  {
   "cell_type": "code",
   "execution_count": null,
   "id": "6a0b4eb4",
   "metadata": {},
   "outputs": [],
   "source": [
    "workflow = StateGraph(state_schema=MessagesState)\n",
    "\n",
    "\n",
    "def call_model(state: MessagesState):\n",
    "    prompt = prompt_template.invoke(state) # This was added in.\n",
    "    response = model.invoke(prompt) # This changed. I think that the messages state that we were giving before is in the prompt template now.\n",
    "    return {\"messages\": response}\n",
    "\n",
    "\n",
    "workflow.add_edge(START, \"model\")\n",
    "workflow.add_node(\"model\", call_model)\n",
    "\n",
    "memory = MemorySaver()\n",
    "app = workflow.compile(checkpointer=memory)"
   ]
  },
  {
   "cell_type": "markdown",
   "id": "88c0f4d2",
   "metadata": {},
   "source": [
    "### Instructions\n",
    "\n",
    "We invoke the application in the same way:"
   ]
  },
  {
   "cell_type": "code",
   "execution_count": 44,
   "id": "b04ac02e",
   "metadata": {},
   "outputs": [
    {
     "name": "stdout",
     "output_type": "stream",
     "text": [
      "==================================\u001b[1m Ai Message \u001b[0m==================================\n",
      "\n",
      "A pleasure to make your acquaintance, Master Kipp. I am Alfred, at your service. Do let me know if there's anything I can assist you with.\n"
     ]
    }
   ],
   "source": [
    "config = {\"configurable\": {\"thread_id\": \"abc345\"}}\n",
    "query = \"Hi! I'm Kipp.\"\n",
    "\n",
    "input_messages = [HumanMessage(query)]\n",
    "output = app.invoke({\"messages\": input_messages}, config)\n",
    "output[\"messages\"][-1].pretty_print()"
   ]
  },
  {
   "cell_type": "code",
   "execution_count": 45,
   "id": "5edb463b",
   "metadata": {},
   "outputs": [
    {
     "name": "stdout",
     "output_type": "stream",
     "text": [
      "==================================\u001b[1m Ai Message \u001b[0m==================================\n",
      "\n",
      "If I may be so bold, Master Kipp, you've already introduced yourself. Your name is Kipp. A pleasure to be reminded.\n"
     ]
    }
   ],
   "source": [
    "query = \"What is my name?\"\n",
    "\n",
    "input_messages = [HumanMessage(query)]\n",
    "output = app.invoke({\"messages\": input_messages}, config)\n",
    "output[\"messages\"][-1].pretty_print()"
   ]
  },
  {
   "cell_type": "markdown",
   "id": "8a9d1c4a",
   "metadata": {},
   "source": [
    "### Instructions\n",
    "\n",
    "Awesome! Let's now make our prompt a little bit more complicated. Let's assume that the prompt template now looks something like this:"
   ]
  },
  {
   "cell_type": "code",
   "execution_count": 46,
   "id": "10e4de35",
   "metadata": {},
   "outputs": [],
   "source": [
    "prompt_template = ChatPromptTemplate.from_messages(\n",
    "    [\n",
    "        (\n",
    "            \"system\",\n",
    "            \"You are a helpful assistant. Answer all questions to the best of your ability in {language}.\",\n",
    "        ),\n",
    "        MessagesPlaceholder(variable_name=\"messages\"),\n",
    "    ]\n",
    ")"
   ]
  },
  {
   "cell_type": "markdown",
   "id": "70deff7f",
   "metadata": {},
   "source": [
    "### Instructions\n",
    "\n",
    "Note that we have added a new language input to the prompt. Our application now has two parameters-- the input messages and language. We should update our application's state to reflect this:\n",
    "\n",
    "### My Notes\n",
    "\n",
    "Ok nothing too crazy here. We added this `State` class. This seems like another form of passing the messages with the language piece added. This gets added to the workflow."
   ]
  },
  {
   "cell_type": "code",
   "execution_count": 47,
   "id": "3cfd523c",
   "metadata": {},
   "outputs": [],
   "source": [
    "from typing import Sequence\n",
    "\n",
    "from langchain_core.messages import BaseMessage\n",
    "from langgraph.graph.message import add_messages\n",
    "from typing_extensions import Annotated, TypedDict\n",
    "\n",
    "\n",
    "class State(TypedDict):\n",
    "    messages: Annotated[Sequence[BaseMessage], add_messages]\n",
    "    language: str\n",
    "\n",
    "\n",
    "workflow = StateGraph(state_schema=State)\n",
    "\n",
    "\n",
    "def call_model(state: State):\n",
    "    prompt = prompt_template.invoke(state)\n",
    "    response = model.invoke(prompt)\n",
    "    return {\"messages\": [response]}\n",
    "\n",
    "\n",
    "workflow.add_edge(START, \"model\")\n",
    "workflow.add_node(\"model\", call_model)\n",
    "\n",
    "memory = MemorySaver()\n",
    "app = workflow.compile(checkpointer=memory)"
   ]
  },
  {
   "cell_type": "code",
   "execution_count": 48,
   "id": "81f08f03",
   "metadata": {},
   "outputs": [
    {
     "name": "stdout",
     "output_type": "stream",
     "text": [
      "==================================\u001b[1m Ai Message \u001b[0m==================================\n",
      "\n",
      "Bonjour Kipp ! Comment puis-je vous aider aujourd'hui ?\n"
     ]
    }
   ],
   "source": [
    "config = {\"configurable\": {\"thread_id\": \"abc456\"}}\n",
    "query = \"Hi! I'm Kipp.\"\n",
    "language = \"French\"\n",
    "\n",
    "input_messages = [HumanMessage(query)]\n",
    "output = app.invoke(\n",
    "    {\"messages\": input_messages, \"language\": language},\n",
    "    config,\n",
    ")\n",
    "output[\"messages\"][-1].pretty_print()"
   ]
  },
  {
   "cell_type": "markdown",
   "id": "68292c4d",
   "metadata": {},
   "source": [
    "### Instructions\n",
    "Note that the entire state is persisted, so we can omit parameters like language if no changes are desired:\n"
   ]
  },
  {
   "cell_type": "code",
   "execution_count": 49,
   "id": "af287107",
   "metadata": {},
   "outputs": [
    {
     "name": "stdout",
     "output_type": "stream",
     "text": [
      "==================================\u001b[1m Ai Message \u001b[0m==================================\n",
      "\n",
      "Votre nom est Kipp.\n"
     ]
    }
   ],
   "source": [
    "query = \"What is my name?\"\n",
    "\n",
    "input_messages = [HumanMessage(query)]\n",
    "output = app.invoke(\n",
    "    {\"messages\": input_messages},\n",
    "    config,\n",
    ")\n",
    "output[\"messages\"][-1].pretty_print()"
   ]
  },
  {
   "cell_type": "markdown",
   "id": "d52e211e",
   "metadata": {},
   "source": [
    "### Instructions\n",
    "\n",
    "To help you understand what's happening internally, check out this [LangSmith trace](https://smith.langchain.com/public/15bd8589-005c-4812-b9b9-23e74ba4c3c6/r)."
   ]
  },
  {
   "cell_type": "markdown",
   "id": "8c5d45e5",
   "metadata": {},
   "source": [
    "## Managing Conversation History\n",
    "\n",
    "### Instructions\n",
    "\n",
    "One important concept to understand when building chatbots is how to manage conversation history. If left unmanaged, the list of messages will grow unbounded and potentially overflow the context window of the LLM. Therefore, it is important to add a step that limits the size of the messages you are passing in.\n",
    "\n",
    "Importantly, you will want to do this BEFORE the prompt template but AFTER you load previous messages from Message History.\n",
    "\n",
    "We can do this by adding a simple step in front of the prompt that modifies the `messages` key appropriately, and then wrap that new chain in the Message History class.\n",
    "\n",
    "LangChain comes with a few built-in helpers for managing a list of messages. In this case we'll use the trim_messages helper to reduce how many messages we're sending to the model. The trimmer allows us to specify how many tokens we want to keep, along with other parameters like if we want to always keep the system message and whether to allow partial messages:"
   ]
  },
  {
   "cell_type": "code",
   "execution_count": 50,
   "id": "f63843e8",
   "metadata": {},
   "outputs": [
    {
     "data": {
      "text/plain": [
       "[SystemMessage(content=\"you're a good assistant\", additional_kwargs={}, response_metadata={}),\n",
       " HumanMessage(content=\"hi! I'm bob\", additional_kwargs={}, response_metadata={}),\n",
       " AIMessage(content='hi!', additional_kwargs={}, response_metadata={}),\n",
       " HumanMessage(content='I like vanilla ice cream', additional_kwargs={}, response_metadata={}),\n",
       " AIMessage(content='nice', additional_kwargs={}, response_metadata={}),\n",
       " HumanMessage(content='whats 2 + 2', additional_kwargs={}, response_metadata={}),\n",
       " AIMessage(content='4', additional_kwargs={}, response_metadata={}),\n",
       " HumanMessage(content='thanks', additional_kwargs={}, response_metadata={}),\n",
       " AIMessage(content='no problem!', additional_kwargs={}, response_metadata={}),\n",
       " HumanMessage(content='having fun?', additional_kwargs={}, response_metadata={}),\n",
       " AIMessage(content='yes!', additional_kwargs={}, response_metadata={})]"
      ]
     },
     "execution_count": 50,
     "metadata": {},
     "output_type": "execute_result"
    }
   ],
   "source": [
    "from langchain_core.messages import SystemMessage, trim_messages\n",
    "\n",
    "trimmer = trim_messages(\n",
    "    max_tokens=65,\n",
    "    strategy=\"last\",\n",
    "    token_counter=model,\n",
    "    include_system=True,\n",
    "    allow_partial=False,\n",
    "    start_on=\"human\",\n",
    ")\n",
    "\n",
    "messages = [\n",
    "    SystemMessage(content=\"you're a good assistant\"),\n",
    "    HumanMessage(content=\"hi! I'm bob\"),\n",
    "    AIMessage(content=\"hi!\"),\n",
    "    HumanMessage(content=\"I like vanilla ice cream\"),\n",
    "    AIMessage(content=\"nice\"),\n",
    "    HumanMessage(content=\"whats 2 + 2\"),\n",
    "    AIMessage(content=\"4\"),\n",
    "    HumanMessage(content=\"thanks\"),\n",
    "    AIMessage(content=\"no problem!\"),\n",
    "    HumanMessage(content=\"having fun?\"),\n",
    "    AIMessage(content=\"yes!\"),\n",
    "]\n",
    "\n",
    "trimmer.invoke(messages)"
   ]
  },
  {
   "cell_type": "markdown",
   "id": "118f1d6e",
   "metadata": {},
   "source": [
    "### Instructions\n",
    "\n",
    "To use it in our chain, we just need to run the trimmer before we pass the messages input to our prompt.\n",
    "\n",
    "### My Notes\n",
    "\n",
    "Another piece that was added to the `call_model`. This seems to be our home base for a lot of these model alterations that we'd like to see in our conversations with the bot."
   ]
  },
  {
   "cell_type": "code",
   "execution_count": 51,
   "id": "21285038",
   "metadata": {},
   "outputs": [],
   "source": [
    "workflow = StateGraph(state_schema=State)\n",
    "\n",
    "\n",
    "def call_model(state: State):\n",
    "    trimmed_messages = trimmer.invoke(state[\"messages\"])\n",
    "    prompt = prompt_template.invoke(\n",
    "        {\"messages\": trimmed_messages, \"language\": state[\"language\"]}\n",
    "    )\n",
    "    response = model.invoke(prompt)\n",
    "    return {\"messages\": [response]}\n",
    "\n",
    "\n",
    "workflow.add_edge(START, \"model\")\n",
    "workflow.add_node(\"model\", call_model)\n",
    "\n",
    "memory = MemorySaver()\n",
    "app = workflow.compile(checkpointer=memory)"
   ]
  },
  {
   "cell_type": "markdown",
   "id": "318c4453",
   "metadata": {},
   "source": [
    "### Instructions\n",
    "\n",
    "Now if we try asking the model our name, it won't know it since we trimmed that part of the chat history:"
   ]
  },
  {
   "cell_type": "code",
   "execution_count": 52,
   "id": "a935d989",
   "metadata": {},
   "outputs": [
    {
     "name": "stdout",
     "output_type": "stream",
     "text": [
      "==================================\u001b[1m Ai Message \u001b[0m==================================\n",
      "\n",
      "As a large language model, I have no memory of past conversations. Therefore, I don't know your name. You haven't told me!\n"
     ]
    }
   ],
   "source": [
    "config = {\"configurable\": {\"thread_id\": \"abc567\"}}\n",
    "query = \"What is my name?\"\n",
    "language = \"English\"\n",
    "\n",
    "input_messages = messages + [HumanMessage(query)]\n",
    "output = app.invoke(\n",
    "    {\"messages\": input_messages, \"language\": language},\n",
    "    config,\n",
    ")\n",
    "output[\"messages\"][-1].pretty_print()"
   ]
  },
  {
   "cell_type": "markdown",
   "id": "2799cab3",
   "metadata": {},
   "source": [
    "### Instructions\n",
    "\n",
    "But if we ask about information that is within the last few messages, it remembers:"
   ]
  },
  {
   "cell_type": "code",
   "execution_count": 53,
   "id": "839e35aa",
   "metadata": {},
   "outputs": [
    {
     "name": "stdout",
     "output_type": "stream",
     "text": [
      "==================================\u001b[1m Ai Message \u001b[0m==================================\n",
      "\n",
      "You asked \"what's 2 + 2\".\n"
     ]
    }
   ],
   "source": [
    "config = {\"configurable\": {\"thread_id\": \"abc678\"}}\n",
    "query = \"What math problem did I ask?\"\n",
    "language = \"English\"\n",
    "\n",
    "input_messages = messages + [HumanMessage(query)]\n",
    "output = app.invoke(\n",
    "    {\"messages\": input_messages, \"language\": language},\n",
    "    config,\n",
    ")\n",
    "output[\"messages\"][-1].pretty_print()"
   ]
  },
  {
   "cell_type": "markdown",
   "id": "2135b22b",
   "metadata": {},
   "source": [
    "### Instructions\n",
    "\n",
    "If you take a look at LangSmith, you can see exactly what is happening under the hood in the [LangSmith trace](https://smith.langchain.com/public/04402eaa-29e6-4bb1-aa91-885b730b6c21/r)."
   ]
  },
  {
   "cell_type": "markdown",
   "id": "964cff43",
   "metadata": {},
   "source": [
    "## Streaming\n",
    "\n",
    "Now we've got a functioning chatbot. However, one really important UX consideration for chatbot applications is streaming. LLMs can sometimes take a while to respond, and so in order to improve the user experience one thing that most applications do is stream back each token as it is generated. This allows the user to see progress.\n",
    "\n",
    "It's actually super easy to do this!\n",
    "\n",
    "By default, .stream in our LangGraph application streams application steps-- in this case, the single step of the model response. Setting stream_mode=\"messages\" allows us to stream output tokens instead:"
   ]
  },
  {
   "cell_type": "code",
   "execution_count": 55,
   "id": "ba3cdf54",
   "metadata": {},
   "outputs": [
    {
     "name": "stdout",
     "output_type": "stream",
     "text": [
      "Hi| Todd, nice to meet you! Here's a joke for you:\n",
      "\n",
      "Why don'|t scientists trust atoms?\n",
      "\n",
      "Because they make up everything!\n",
      "|"
     ]
    }
   ],
   "source": [
    "config = {\"configurable\": {\"thread_id\": \"abc789\"}}\n",
    "query = \"Hi I'm Todd, please tell me a joke.\"\n",
    "language = \"English\"\n",
    "\n",
    "input_messages = [HumanMessage(query)]\n",
    "for chunk, metadata in app.stream(\n",
    "    {\"messages\": input_messages, \"language\": language},\n",
    "    config,\n",
    "    stream_mode=\"messages\",\n",
    "):\n",
    "    if isinstance(chunk, AIMessage):  # Filter to just model responses\n",
    "        print(chunk.content, end=\"|\")"
   ]
  }
 ],
 "metadata": {
  "kernelspec": {
   "display_name": "lang-chain-llm-demo-mWmhMEmA",
   "language": "python",
   "name": "python3"
  },
  "language_info": {
   "codemirror_mode": {
    "name": "ipython",
    "version": 3
   },
   "file_extension": ".py",
   "mimetype": "text/x-python",
   "name": "python",
   "nbconvert_exporter": "python",
   "pygments_lexer": "ipython3",
   "version": "3.13.1"
  }
 },
 "nbformat": 4,
 "nbformat_minor": 5
}
